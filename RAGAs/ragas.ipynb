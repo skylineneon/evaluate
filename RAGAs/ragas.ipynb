{
 "cells": [
  {
   "cell_type": "markdown",
   "metadata": {},
   "source": [
    "### 加载数据"
   ]
  },
  {
   "cell_type": "code",
   "execution_count": 1,
   "metadata": {},
   "outputs": [
    {
     "name": "stderr",
     "output_type": "stream",
     "text": [
      "USER_AGENT environment variable not set, consider setting it to identify your requests.\n"
     ]
    },
    {
     "data": {
      "text/plain": [
       "Document(metadata={'source': 'https://baike.baidu.com/item/恐龙/139019', 'title': '恐龙（一类主要生活在中生代的蜥形纲动物）_百度百科', 'description': '恐龙（英文名：Dinosaur），是指三角龙、现代鸟类和梁龙最近的共同祖先及其所有后代。为方便研究，恐龙可分为鸟类和非鸟恐龙。其中，非鸟恐龙只生活在中生代（三叠纪、侏罗纪和白垩纪），已于6500万年前全部灭绝。而本词条主要介绍非鸟恐龙。矫健的四肢、长长的尾巴和庞大的身躯是部分非鸟恐龙的写照。它们主要栖息于湖岸平原（或海岸平原）上的森林地或开阔地带。1841年，英国科学家理查德·欧文在研究几块样子像蜥蜴骨头化石时，认为它们是某种史前动物留下来的，并命名为恐龙，意思是“恐怖的蜥蜴”。1915年，美国加利福尼亚大学地质学家乔治·D·劳德伯克博士和R·R·莫斯博士在自贡市发现恐龙化石。2022年3月，云南大学生命科学院的脊椎动物研究团队发现科氏玉溪龙，是在亚洲发现的迄今最早的有甲类恐龙。', 'language': 'No language found.'}, page_content='恐龙（一类主要生活在中生代的蜥形纲动物）_百度百科 网页新闻贴吧知道网盘图片视频地图文库资讯采购百科百度首页登录注册进入词条全站搜索帮助首页秒懂百科特色百科知识专题加入百科百科团队权威合作个人中心恐龙[kǒng lóng]播报讨论上传视频一类主要生活在中生代的蜥形纲动物展开29个同名词条收藏查看我的收藏0有用+10本词条由“科普中国”科学百科词条编写与应用工作项目 审核 。恐龙（英文名：Dinosaur），是指三角龙、现代鸟类和梁龙最近的共同祖先及其所有后代。 [1]为方便研究，恐龙可分为鸟类和非鸟恐龙。其中，非鸟恐龙只生活在中生代（三叠纪、侏罗纪和白垩纪），已于6500万年前全部灭绝。而本词条主要介绍非鸟恐龙。 [1]矫健的四肢、长长的尾巴和庞大的身躯是部分非鸟恐龙的写照。它们主要栖息于湖岸平原（或海岸平原）上的森林地或开阔地带。1841年，英国科学家理查德·欧文在研究几块样子像蜥蜴骨头化石时，认为它们是某种史前动物留下来的，并命名为恐龙，意思是“恐怖的蜥蜴”。 [15]1915年，美国加利福尼亚大学地质学家乔治·D·劳德伯克博士和R·R·莫斯博士在自贡市发现恐龙化石。 [19] [22]2022年3月，云南大学生命科学院的脊椎动物研究团队发现科氏玉溪龙，是在亚洲发现的迄今最早的有甲类恐龙。 [16]中文名恐龙别\\xa0\\xa0\\xa0\\xa0名恐怖的蜥蜴拉丁学名Dinosauria界动物界门脊索动物门亚\\xa0\\xa0\\xa0\\xa0门脊椎动物亚门纲蜥形纲亚\\xa0\\xa0\\xa0\\xa0纲双孔亚纲目鸟臀目（Ornithischuia)、蜥臀目(Saurischia)次亚纲主龙型次亚纲超\\xa0\\xa0\\xa0\\xa0目恐龙总目生存时间中晚三叠世至白垩纪末词\\xa0\\xa0\\xa0\\xa0源日本古生物学家译为恐竜目录1物种定义2名称释义3外形特征4生活习性5生长繁殖6主要分类7化石研究8灭绝原因9相关场馆物种定义播报编辑根据中国古生物学名词审定委员会给出的定义，恐龙指的是三角龙（鸟臀目）和现代鸟类（蜥臀目）最近的共同祖先的其全部后代，除鸟类外已经全部灭绝。 [1]名称释义播报编辑恐龙“恐龙”一词在西方指恐蜥（恐怖的蜥蜴），日本的古生物学家译为“恐竜”，后来流行于中国。古希腊语蜥蜴（Saurosc），特指一些巨大的有四肢有尾或兼有翼的类似蜥蜴的爬虫。 [2]人类发现恐龙化石的历史由来已久。早在曼特尔夫妇发现禽龙之前，欧洲人就知道地下埋藏有许多奇形怪状的巨大骨骼化石。但是，当时人们并不知道它们的确切归属，因此一直误认为是“巨人的遗骸” [3]。直到曼特尔夫妇发现了禽龙并与鬣蜥进行对比，科学界才初步确定了这是一种类似于蜥蜴的、早已灭绝的爬行动物。因此，随后发现的新类型的恐龙以及其它一些古老的爬行动物，名称全都和蜥蜴有关，例如“像鲸鱼的蜥蜴”、“森林的蜥蜴”等等。同时，由于最初引起人们注意的这些远古动物化石，往往个体巨大、奇形怪状，着实令人恐怖 [3]。虽然恐龙化石已经在地球上存在了数千万年，但直到19世纪，人们才知道地球上曾经有这么奇特的动物存在过。第一个发现恐龙化石的是一位名叫吉迪昂·曼特尔的英国医师，而创立“恐龙’’的这一名词的是英国古生物学家理查德·欧文 [2]。1842年，英国古生物学家欧文爵士用拉丁文给它们创造了一个名称，这个拉丁文由两个词根组成，前面的词根意思就是“恐怖的”，后面的词根意思就是“蜥蜴”。从此，“恐怖的蜥蜴”就成了这一大类彼此有一定的亲缘关系、但是却表现得形形色色的爬行动物的统称。中国把这个拉丁名翻译成了“恐龙” [4]。东方译名这种语境里的“龙”特指该希腊语蜥蜴家族，如主龙、暴龙、异齿龙、梁龙、霸王龙、翼龙、三角龙等。就像“壁虎”的虎字是转用性质。 [2]外形特征播报编辑骨骼特征对于体形庞大的植食性恐龙来说，力量是最重要的要求。它们的腿骨庞大而结实，足以负担巨大的身体。同时，它们进化出了一种巧妙的构造，减轻了其他骨骼的重量，而不会造成力量的衰减。 [5]那些体形更小的、行动迅速的恐龙则进化出了一种在现代动物身上也可以看到的特点：薄壁长骨。这种骨骼如同一根空心的管子，薄薄的外壁由重型骨骼构成，而骨骼中央则是轻得多的骨髓。行动迅速的植食性恐龙，如橡树龙,就有这种薄壁长骨。我们可以假定这种骨骼是为了减轻重量，从而在逃离天敌时获得更快的速度。 [5]体型特征偷蛋龙恐龙整体而言的体型很大。以恐龙作为标准来看，蜥脚下目是其中的巨无霸。在漫长的恐龙时代，即使是体型最小的蜥脚类恐龙也要比它们栖息地内的其他动物要大，而最大的蜥脚类则比任何出现在地表的动物都要大出几个等级。 [6]大部分的恐龙要比大型蜥脚类恐龙还小得多。现有的证据表明，恐龙的平均大小在三叠纪、早侏罗纪、晚侏罗纪和白垩纪都不断变化。大部分兽脚类恐龙的体重在100到1000公斤之间，而全新世的掠食性肉食动物则多半在10到100公斤之间。恐龙的体重估计值，大多介于1到10吨之间。伦敦国立自然历史博物馆的一个研究指出恐龙的体重平均值约在100公斤左右，而新生代的哺乳类体重平均值多在2到5公斤之间。 [6]从现有的状况较好的骨架来看，最高和最重的恐龙是长颈巨龙（Giraffatitan brancai，原名布氏腕龙）。长颈巨龙的化石在1907年至1912年间发现于坦桑尼亚。从多具大小相近的个体所组合而成的骨架模型，现正展示于柏林洪堡博物馆，该模型高12米，长22.5米，预期活体的重量在30到60吨之间。最长的恐龙是27米长的梁龙，是在1907年发现于美国怀俄明州，现展示于宾州匹兹堡的卡内基自然历史博物馆。 [6]主要区别角龙类恐龙图片集粹(19张)恐龙与其它爬行动物的最大区别在于它们的站立姿态和行进方式，恐龙具有全然直立的姿态，其四肢构建在其躯体的正下方位置。这样的架构比其他各类的爬行动物（如鳄类，其四肢向外伸展）在走路和奔跑上更为有利。根据恐龙腰的构造特征不同，可以划分为两大类：蜥臀目（Saurischia）、鸟臀目（Ornithischia）。二者间的区别主要在于其腰带结构。 [7]大部分的蜥臀目恐龙都具有往前突出的耻骨，而鸟臀目恐龙的每根耻骨都向后倾斜。除臀部结构不同外，两类恐龙在生活及行为特征上也不同。蜥臀目恐龙包括以四肢行走的草食性蜥脚类恐龙，以及几乎用两肢行走的肉食性兽脚类恐龙。 [7]大型食肉恐龙对比图（平均）蜥臀目的腰带从侧面看是三射型，耻骨在肠骨下方向前延伸，坐骨则向后延伸，这样的结构与蜥蜴相似。 [7]鸟臀目的腰带，肠骨前后都大大扩张，耻骨前侧有一个大的前耻骨突，伸在肠骨的下方，后侧更是大大延伸与坐骨平行伸向肠骨前下方。因此，骨盆从侧面看是四射型（除此之外，还有其他区别）。 [7]兽脚亚目三大超科对比图蜥脚形类主要生活在晚三叠世至白垩纪，它们绝大多数都是大型的素食恐龙。头小，脖子长，尾巴长，牙齿成小匙状。蜥脚亚目的著名代表有产于中国四川、甘肃晚侏罗纪由19节颈椎组成的脖子长度约等于体长的一半的马门溪龙，世界上已知体形最大的陆地动物——易碎双腔龙。 [7]兽脚类生活在晚三叠世至白垩纪。它们大多为肉食性，两足行走，趾端长有锐利的爪子，头部很发达，为最聪明的一类。嘴里长着匕首或小刀一样的利齿，暴龙是著名代表，其余如异特龙、南方巨兽龙、棘龙等也颇具名气。 [7]生活习性播报编辑觅食草食性恐龙能够吃到的植物受限于它们的身高，所以有些小型草食性恐龙为了吃到高处的植物叶子，会用后肢站立。肉食性恐龙以草食性恐龙和其他动物为食。各种恐龙不同的觅食方式也会在它们的牙齿上体现出来。 [8]斗争锐利的牙齿和爪子是肉食类恐龙猎食的武器。暴龙类恐龙会寻找落单的草食性恐龙，因此常常单独行动。而有些恐龙则会群体行动，锁定猎物后蜂拥而上，并用脚爪的第二根指头割开猎物的腹部。 [8]鸭嘴龙类恐龙图片集粹(31张)草食性恐龙一般会有一些特殊的“装备”来对付肉食性恐龙的攻击，这些装备有时是坚韧的皮甲、骨棒或骨钉，有时是有力的尾巴。如棒槌龙等。大型草食性恐龙会集体行动，一旦受到威胁，就会集体坚守阵地并反击。 [8]生长繁殖播报编辑恐龙交配爬行动物是产卵的，以前人们假设恐龙也这样。不过直到20世纪20年代，一支美国探险队到蒙古寻找恐龙化石时，才获得最初的证据。 [9]科学家不只找到了恐龙的遗骨，还找到了它们留下的巢和巢里的蛋。最初发现的恐龙蛋是原角龙的蛋，呈鹅卵形，大约宽7.5厘米、长15厘米，多至30只，蛋尖向内，在巢中以螺旋状排列。恐龙蛋属羊膜卵，巢位于沙中的一个洼处，因为原角龙生活在一个多沙的地方。很多雌龙似乎在同一个集中产卵。很偶然，在其中一个巢中，找到了一只吃蛋恐龙——一偷蛋龙的化石骨骼。看来似乎这只动物在偷袭这巢时，被沙暴压死了。自那以后，很多其他种类恐龙的蛋相继被发现了。 [9] [24]杂食性恐龙图片集粹(28张)恐龙蛋的直径通常在10厘米～15厘米之间。在中国河南西峡县出土的一种恐龙蛋化石，长直径达30厘米，短直径12厘米，这在中国是很罕见的。 [9]恐龙蛋属羊膜卵，其他爬行动物以及鸡鸭等产的蛋也是羊膜卵。羊膜卵的外面包有一层既坚固又耐干燥的钙质外壳，壳上有许多小气孔是供胚胎发育时呼吸空气用的“窗口”。恐龙蛋壳厚2毫米～7毫米，是世界上最厚的蛋壳。在蛋壳的里面，含有一个大卵黄，为胚胎供应养料：个被羊膜包裹的羊膜囊，其中充满了羊水，胚胎沉漫在羊水中。另外还有一个囊，是存放排泄物用的。 [9]羊膜卵构造精巧、合理，在陆地上不会干涸、失水，胚胎在里面既安全又舒适。与青蛙等两栖动物的卵相比，条件不知好多少倍。青蛙的卵必须产在水中，一离开水它就不能成活；就是不离开水，成活率也有限。所以青蛙一次要产很多很多的卵，以提高成活率。 [9]羊膜的出现是脊椎动物演化过程中的一个重大的飞跃，是动物生殖方面的一大进步，为它们在陆地上繁殖后代创造了必需的条件。 [9]世界各地发现的恐龙蛋大约有数千枚之多，但其中绝大多数都弄不清楚是什么恐龙下的。 [9]还有，到目前为止，发现的化石恐龙蛋都是素食恐龙生的，食肉恐龙的蛋则没发现。但也有报道说，不久前已在美国找到了跃龙蛋的化石。美国科学家发现，恐龙像鸵鸟与鸽子一样，采用坐窝孵蛋的方式孵出后代，这是古生物研究领域的一项重要发现。这项发现印证了古生物考古学家一直在猜测，但又苦于未能证实的事实，这使人类对恐龙的认识又前进了一大步。美国纽约自然历史博物馆的研究人员最近发表报告说，他们与蒙古科学家组成的考古队在戈壁大沙漠中发现了一处保存异常完好的恐龙化石。这是生活在7000万年～8000万年前的一种食肉性恐龙化石，化石清楚地显示，恐龙死前正在孵蛋。它坐在窝上，窝内有15枚恐龙蛋，它的腿微微弯曲，其前爪叉开并伸向后方，似在护着自己的卵。此情此景，与今天的鸵鸟和子、母鸡孵蛋的形式并无两样。从化石上看，该恐龙很像今天的鸵鸟，只是它的尾巴较长而脖子短。 [9]美蒙联合考察队成员、纽约自然历史博物馆鸟类学部研究员路易斯·查蓬指出，对鸟类化石及新发现的恐龙化石进行分析研究，并参照已有的文献及解剖图可以看出，鸟类与恐龙有许多共同的地方。在戈壁大沙漠中的发现，第一次证实鸟与恐龙在行为上有着共同点，其中最主要的一点是它们都是自己孵蛋育出后代。 [9]纽约自然历史博物馆与蒙古科学院组成的古生物考察队，自1990年以来一直在戈壁沙漠里从事考古发掘。他们是在一处名为乌哈一托尔戈特的地方，发现这一极其珍贵恐龙化石的，该地区已被列为恐龙化石保护区。 [9]主要分类播报编辑包头龙中国恐龙Chinese Dinosaurs恐龙钟敏Class Dinosauria Owen，1841蜥臀目Order Saurischia Seeley，1888兽脚亚目Suborder Theropoda Marsh，1881 [10]肉食龙钟敏类Infraorder Carnosauria von Huene, 1920巨齿龙科Family Megalosauridae Huxley, 1870⊙建设气龙Gasosaurus constructus Dong et Tang, 1985⊙七里峡宣汉龙Xuanhanosaurus qilixiaensis Dong, 1984异特龙科Family Allosauridae Marsh, 1877⊙甘氏四川龙Szechuanosaurus campi Young, 1942⊙石油克拉玛依龙Kelmayisaurus petrolicus Dong, 1973⊙大水沟吉兰泰龙 Chilantaisaurus tashikouensis Hu, 1964⊙毛儿图吉兰泰龙Chiantaisaurus maortuensis Hu, 1964⊙浙江吉兰泰龙Chilantaisaurus zhejiangensis Dong, 1979虚骨龙次亚目Infraorder Coelurosauria Huene, 1914迅足龙科 Family Podokesauridae Huene, 1914⊙尹氏芦沟龙 Lukousaurus yini Young, 1848虚骨龙科 Family Coeluridae Marsh, 1881⊙破碎中国虚骨龙 Sinocoelurus fragilis Young, 1942⊙原始川东虚骨龙 Chuandongocoelurus primitivus He, 1984鄯善龙科Family Shanshanosauridae Dong, 1977⊙火焰山鄯善龙Shanshanosaurus huoyanshanensis Dong, 1977暴龙科Family Tyrannosauridae Osborn, 1905⊙破碎金刚口龙 Chingkankousaurus fragilis Young, 1958⊙广西原恐齿龙 Prodeinodon Kwangshiensis Hou et. al., 1975⊙威肋阿尔伯脱龙 Albertosaurus periculosus Riabinin, 1930⊙奥氏独龙Alectrosaurus olseni Gilmore, 1933恐龙化石⊙霸王龙相似种 Tyrannosaurus cf. T. rex Hu, 1973⊙特暴龙未定种 Tarbosaurus sp. Maleev, 1955似鸟龙科 Family Ornithomimidae Marsh, 1890⊙亚洲古似鸟龙Archaeornithomimus asiatiicus Gilmore, 1933窃蛋龙科Family Oviraptoridae Barshold, 1976⊙嗜角窃蛋龙Oviraptor philoceratop Osborn, 1924驰龙科Family Dromaeosauridae Mattew et Brown, 1922⊙艾里克敏捷龙Phaedrolosaurus ilikensis Dong, 1973⊙小巧吐谷鲁龙 Tugulusaurus faciles Dong, 1973⊙蒙古伶盗龙Velociraptor mongoliensis Osborn, 1924⊙伤齿龙科 Troodontidae Gilmore，1924蜥脚形亚目Suborder Sauropodomorpha von Huene, 1932原蜥脚次亚目Infraorder Prosauropoda von Huene, 1920板龙科Family Platesauridae Marsh, 1895⊙许氏禄丰龙 Lufengosaurus huenei Young, 1941⊙巨型禄丰龙 Lufengosaurus magnus Young, 1947云南龙科 Family Yunnanosauridae Young, 1942⊙黄氏云南龙 Yunnanosaurus huangi Young, 1942⊙巨硕云南龙 Yunnanosaurus magnus Young, 1947近蜥龙科 Family Anchisauridae Marsh, 1885⊙中国近蜥龙Anchisaurus sinensis Young, 1941美兰龙科 Family Melanrosauridae von Huene, 1929⊙中和金沙江龙 Chinshakiangosaurus zhongheensis Elaao, 1956蜥脚次亚目Infraorder Sauropoda Marsh, 1878圆顶龙科 Family Camarasauridae Cope, 1877蜀龙亚科 Subfamily Shunosaurinae Mclntosh, 1990⊙武定昆明龙 Kunmingosaurus wudingensis Zhao, 1985⊙炎齿原颌龙 Protognathosaurus oxyodon Olshevsky, 1991⊙岳氏三巴龙 Sanpasaurus yoai Young, 1944⊙船城资中龙 Zizhongosaurus chuanchengensis Dong et al., 1983⊙李氏蜀龙 Shunosaurus lii Dong, et. al., 1983似鲸龙亚科 Subfamily Cetiosaurinae Ly dekker, 1888⊙巴山酋龙 Datousaurus bashanensis Dong et Tang, 1984巧龙亚科 Subfamily Bellusaurinae Dong, 1986马门溪龙科 Family Mamenchisauridae Young et Chao, 1972马门溪龙亚科 Subfamily Mamenchisaurinae Dong, 1992峨嵋龙属Genus Omeisaurus Young, 1939⊙荣县峨嵋龙 Omeisaurus junghsiensis Young, 1939⊙釜溪峨嵋龙Omeisaurus fuxiensis Dong et. al., 1983⊙天府峨嵋龙 Omeisaurus tianfuensis He et. al., 1984⊙罗泉峨嵋龙 Omeisaurus luoquanensis Li, 1988马门溪龙属 Genus Mamenchisaurus Young, 1954⊙建设马门溪龙 Mamenchisaurus constructus Young, 1954⊙合川马门溪龙 Manenchisaurus hochuanensis Young et Zhao, 1972盘足龙亚科 Subfamily Euhelopodinae Romer, 1956⊙奇台天山龙 Tienshanosaurus chitaiensis Young, 1937⊙戈壁克拉美丽龙 Klamelisaurus gobiensis Zhao, 1993⊙湖泊嘉峪龙Chiayusaurus lacstris Bohlin, 1953⊙师氏盘足龙 Euhelopus zdanskyi Wiman, 1929⊙广西亚洲龙 Asiatosaurus kwangshiensis Hou et. al., 1975⊙坦齿蒙古龙 Mongolosaurus hoplodon Gilmore, 1933梁龙科 Family Diplodocidae Marsh, 1884巨龙亚科 Subfamily Titanosaurinae Nopcsa, 1928⊙耙齿耐梅盖特龙 Nemegtosaurus pachi Dong, 1977鸟臀目[Order Ornithischia Seeley 1887]角龙亚目Suborder Ceratopsia Marsh, 1890朝阳龙科Family chaoyangosauridae Zhao, 1983⊙辽西朝阳龙Chaoyangosaurus liaoxinensis Zhao, 1983三角龙鹦鹉嘴龙科Family Psittacosauridae Osborn, 1924⊙蒙古鹦鹉嘴龙Psittacosaurus mongoliensis Osborn, 1923⊙中国鹦鹉嘴龙Psittacosaurus sinensiss Young, 1953⊙奥氏鹦鹉嘴龙 Psittacosaurus osborni Young, 1931⊙固阳鹦鹉嘴龙 Psittacosaurus guyangensis Zhen, 1981⊙新疆鹦鹉嘴龙 Psittacosaurus xingiangensis Sereno, 1988⊙梅莱营鹦鹉嘴龙Psittacosaurus meileyingensis Sereno et. al., 1988原角龙科Family Protoceratopsidae G ranger et Gregory, 1923⊙戈壁微角龙 Microceratops gobiensis Bohlin, 1953⊙凹齿微角龙Microcera tops sulcidens Bohlin, 1953⊙安氏原角龙 Protocera tops andrewsi Granger et Gregory, 1923鸟脚亚目Suborder ornithopoda Marsh, 1871异齿龙科 Family Heterodontosauridae Romer, 1966⊙禄丰滇中龙 Diachongosaurus lufengensis Young, 1982棱齿龙科 Family Hypsilophodontidae Dollo, 1882⊙鸿鹤盐都龙 Yandusaurus hungheensis He, 1979⊙拾遗工部龙 Gongbusaurus shiyii Dong et. al., 1983⊙五彩湾工部龙 Gongbusaurus wucaiwanensis Dong, 1989⊙劳氏灵龙 Agilisaurus louderbacki Peng, 1990禽龙科 Family Iguanodontidae Cope, 1869原巴克龙属 Genus Probactrosaurus Rozhdestvensky, 1966⊙戈壁原巴克龙 Probactrosaurus gobiensis Rozhdestvensky, 1966⊙阿拉善原巴克龙 Probactrosaurus alashanicus Rozhdestvensky, 1966鸭嘴龙科 Family Hadrosauridae Cope, 1869鸭嘴龙亚科 Subfamily Hadrosaurinae Lambe, 1918⊙姜氏巴克龙 Bactrosaurus johnsoni Glmore, 1933⊙黑龙江满洲龙 Mandschurosaurus amurensis Riabinin, 1930蒙古吉摩尔龙 Gilmoreosaurus mongoliensis Brett-Surman, 1975谭氏龙属 Genus Tanius Wiman, 1929⊙中国谭氏龙 Tanius sinensis Wiman, 1929⊙金刚口谭氏龙 Tanius chingkankoensis Young, 1958⊙莱阳谭氏龙 Tanius laiyangensis Zhen, 1976⊙南雄小鸭嘴龙 Microhadrosaurus nanshiungensis Dong, 1979⊙巨型山东龙 Shantungosaurus giganteus Hu, 1974栉龙亚科 Subfamily Saurolophinae Brown, 1914⊙富蕴牙克煞龙 Jaxartosaurus fuyanensis Wu, 1972⊙棘鼻青岛龙 Tsintaosaurus spinorhinus Young, 1958甲龙亚目Suborder Ankylosauria Osborn, 1923甲龙甲龙科 Family Ankylosauridae Brown, 1903⊙明星天池龙 Tianchiasaurus nedegoapeferima Dong, 1993⊙薄甲北山龙 Peishansaurus philemys Bohlin, 1953⊙格氏绘龙 Pinacosaurus grangeri Gilmore, 1933⊙结节蜥甲龙 Sauroplites scutiger Bohlin, 1953⊙肿头黑山龙 Heishanosaurus pachycephalus Bohlin, 1953剑龙亚目Suborder stegosauria Marsh, 1880⊙奥氏大地龙Tatisaurus oehleri Simmons, 1965华阳龙科Family Huayangosauridae Galton, 1990⊙太白华阳龙Huayangosaurus taibaii Dong, et. al., 1982剑龙类与甲龙类恐龙(17张)剑龙科Family stegosauridae Marsh, 1877⊙凹甲剑节龙Stegosaurides excavatus Bohlin, 1953⊙关氏嘉陵龙Chialingosaurus kuani Young, 1959⊙多棘沱江龙Tuojiangosaurus multispinus Dong, et. al., 1977⊙江北重庆龙 Chungkingosaurus jiangbeiensis Dong, et. al., 1983⊙平坦乌尔禾龙Wuerhosaurus homheni Dong, 1973⊙拉乌拉芒康龙Monokosaurus lawulacus Chao, 1983肿头龙亚目Suborder Pachycephalosauria Osmolska et Maryansky, 1976平头龙科 Family Homalocephalidae Dong, 1978⊙红土崖微肿头龙 Micropachycephalosaurus hongtuyanensis Dong, 1978⊙岩寺皖南龙 Wannanosaurus yangsiensis Hou, 1977慢龙目（现为兽脚亚目镰刀龙超科）Order Segnosauria (Barsbold et Perly, 1980) Dong, 1992南雄龙科 Family Nanshiungosauridae Dong, 1995⊙短棘南雄龙 Nanshiungosaurus brevisinus Dong, 1979 [11]化石研究播报编辑纪录片中的恐龙(34张)人类发现恐龙化石的历史由来已久。早在发现恐龙之前，欧洲人就已经知道地下埋藏有许多奇形怪状的巨大骨骼化石。直到古生物学家曼特尔发现了恐龙并与鬣蜥进行了对比，科学界才初步确定这是一群类似于蜥蜴却早已灭绝的爬行动物。 [12]人类如果不借助于化石，对恐龙这一神秘的物种就会一无所知。所以对恐龙的研究，也就是对恐龙化石的研究。恐龙化石大致可分为骨骼化石和生痕化石两种，主要保存在中生代时期形成的沉积岩中。恐龙化石的形成是一个复杂、漫长而又神秘的过程，它牵涉到恐龙的死亡和灭绝，也与地球亿万年的风云变幻息息相关，而它的发现和挖掘也同样不易。科学家们通过各种手段寻找恐龙化石的蛛丝马迹，并借助现代高科技手段来复原化石和研究恐龙。通过他们的工作，我们渐渐了解了恐龙的外形及生活习性，而来自世界各地关于恐龙的新发现以及新看法，一再修正我们原先认定的恐龙形象，使之更接近事实的真相。 [12]相传晋朝时代的中国，四川省自贡市就发现过恐龙化石。但是，当时的人们并不知道那是恐龙的遗骸，而是把它们当作是传说中的龙所遗留下来的骨头。 [12]早在曼特尔夫妇发现禽龙（第一种被命名的恐龙）前，欧洲人就已经知道地下埋藏有许多奇形怪状的巨大的动物骨骼化石，但当时人们并不知道它们的确切归属，因此一直误认为是“巨人的遗骸”。 [12]杂食性恐龙(20张)里丁大学的一位名叫哈士尔特德的研究人员根据从一部历史小说《米尔根先生的妻子》中发现的线索，经过很长时间的研究，翻阅了大量的资料，宣布他终于发现了如下的研究结果：1677年，一个叫普洛特-加龙省的英国人编写了一本关于牛津郡的自然历史书。在本书中，普洛特-加龙省描述了一件发现于卡罗维拉教区的一个采石场中的巨大腿骨化石。普洛特-加龙省为这块化石画了一张插图，并指出这个大腿骨既不是牛的，也不是马或大象的，而是属于一种比它们还大的巨人的。 [12]1981年2月27日，在自贡市郊大山铺发现一处在世界恐龙化石发掘史上罕见、距今约1.5亿年的中侏罗纪恐龙化石群，填补了研究恐龙演化史上的一段空白。自此，自贡被誉为“恐龙之乡”。1979~1984年间先后组织三次大规模的清理和发掘，整个化石群集中埋藏范围约17000平方米，化石骨骼10万块以上，被誉为\"恐龙公墓\"。八十年代中期，在该遗址上修建有我国第一座大型的恐龙遗址博物馆——自贡恐龙博物馆。 [21]虽然普洛特-加龙省没有认识到这块化石是恐龙的，甚至也没有把它与爬行动物联系起来，但他用文字记载和用插图亲临描绘的这块标本已被后来的古生物学家鉴定是一种叫做巨齿龙（又名斑龙）的恐龙的大腿骨，而这块化石的发现比曼特尔夫妇发现第一种被命名的恐龙——禽龙早145年。因此，哈士尔特德认为，普洛特-加龙省应该是恐龙化石的第一个发现者和记录者。 [12]1842年，英国古生物学家理查德·欧文创建了“dinosaur”这一名词。英文的dinosaur来自希腊文deinos（恐怖的）Saurosc（蜥蜴或爬行动物）。对当时的欧文来说，这“恐怖的蜥蜴”或“恐怖的爬行动物”是指大的灭绝的爬行动物（实则不是）。实际上，那个时候发现的恐龙化石并不多。 [12]暴龙与异特龙自从1989年南极洲发现恐龙化石后，全世界七大洲都已有了恐龙的遗迹。世界上被描述的恐龙至少有650至800多个属（古生物学上的种属，不完全同于现代动物的分类方式）。后来，日本、中国等国的学者把它译为恐龙，原因是这些国家一向有关于龙的传说，认为龙是鳞虫之长，如蛇等就素有小龙的别称。 [12]1913年至1915年，应中国当时的中央资源委员会之邀请，美国加利福尼亚大学地质学家乔治·D·劳德伯克博士和R·R·莫斯博士带领美国的一个地质调查组来到中国四川的威远、自流井和荣县一带进行石油地质考察。于1915年夏来到荣县县城附近的旭水河畔，开展地质考察活动。8月30日，当他们冒着酷暑在荣县县城与高山铺之间进行考察时，劳德伯克在荣县通往自流井的官道旁，距大路约30多公尺的一个砂岩崖壁上发现一化石露头，并从中找到一颗残破牙齿。 [19]1993年7月，河南西峡恐龙蛋化石群的发现轰动世界。南阳盆地的恐龙蛋化石群种类多、数量多、分布广、保存完好，堪称世界之最。 [12]2012年4月，科学家在中国辽宁省西部发现一种新的暴龙类恐龙。这种被命名为华丽羽王龙的食肉恐龙是迄今发现的体型最大的带羽毛恐龙。 [13]恐龙近亲兽脚类恐龙(33张)在1861年发现的始祖鸟（早期认为它是最早的鸟类，近期研究认为其更可能属于原始恐爪龙类）与美颌龙形态相似，差别在于始祖鸟化石有明显的羽毛痕迹（美颌龙虽然也有羽毛，但它们很原始），事实上有相当一部分食肉恐龙具有原始羽毛，这显示恐龙与鸟类可能是近亲。自从1970年以来，许多研究报告指出现代鸟类极可能是兽脚亚目恐龙的直系后代，近年来的研究都倾向于把鸟类直接归入虚骨龙类（包括霸王龙、窃蛋龙、恐爪龙等）。鳄鱼则是另一群恐龙的现代近亲，但两者关系较非鸟恐龙与鸟类远。非鸟恐龙、鸟类、鳄鱼都属于初龙类演化支，该演化支首次出现于晚二叠纪，并在中三叠纪成为优势动物群。 [12]哺乳动物起源于爬行动物，它们的前身是“似哺乳类的爬行动物”，即兽孔目，早期则是“似爬行类的哺乳动物”，即哺乳型动物。 [12]中生代的爬行动物，大部分在中生代的末期灭绝了；一部分适应了变化的环境被保留下来，即现存的爬行动物（如龟鳖类、蛇类、鳄类等）；还有一部分沿着不同的进化方向，进化成了现今的鸟类和哺乳类。 [12]恐龙是介于冷血和温血之间的动物2014年6月，有关恐龙究竟是像鸟类和哺乳动物一样的温血动物，还是类似爬行动物、鱼类和两栖动物的冷血动物的问题终于有了答案——恐龙其实是介于冷血和温血之间的动物。 [12]“我们的结果显示恐龙所具有的生长速率和新陈代谢速率，既不是冷血生物体也不是温血生物体所具有的特征。它们既不像哺乳动物或者鸟类，也不像爬行动物或者鱼类，而是介于现代冷血动物和温血动物之间。简言之，它们的生理机能在现代社会并不常见。”美国亚利桑那大学进化生物学家和生态学家布莱恩·恩奎斯特说。墨西哥生物学家表示，正是这种中等程度的新陈代谢使得恐龙可以长得比任何哺乳动物都要大。温血动物需要大量进食，因此它们频繁猎捕和咀嚼植物。“很难想象霸王龙大小的狮子能够吃饱以存活下来。 [12]2022年3月16日，云南大学生命科学院的脊椎动物研究团队，在国际生物学著名期刊《eLife》上报道了一件基干有甲类恐龙的化石骨架，依据其头骨、脊椎和肢骨的自近裔特征，认为是一新属种，取名为科氏玉溪龙，是在亚洲发现的迄今最早的有甲类恐龙。科氏玉溪龙发现于玉溪市易门县脚家店村1.9亿年前的早侏罗世地层中，化石是一件较为完整的骨架，包括部分头骨、下颌、脊椎、肢骨和骨刺或骨板。系统发育分析表明，新化石和有甲类恐龙的基干类群，如德国莫阿大学龙，存在较近的亲缘关系，而与甲龙类和剑龙类的形态特征明显不同。当前研究认为，有甲类恐龙起源于大约2亿年前，但具体起源地尚不明确，玉溪龙在亚洲的发现，表明此类群在出现之后，迅速分化并迅速扩散，在不到300万年内就到达了全球分布。 [16]首例“流线型”非鸟兽脚恐龙2022年12月，一项考古学最新研究展示了首例拥有“流线型”身体的非鸟兽脚恐龙，其体型类似企鹅、海雀等现代潜水鸟类。 [17]灭绝原因播报编辑非鸟恐龙在地球上生活了1.6亿年之久，兽脚类恐龙中的一个支系分化出鸟类，可是在白垩纪末期，它们却突然在世界各地销声匿迹了。非鸟恐龙的灭绝是地球生命史上的一大悬案，自20世纪70年代以来，各种有关非鸟恐龙灭绝的理论、假说纷纷出台，展开了一场规模空前的争论。 [12]历史上的物种大灭绝事件名称时间可能原因后果奥陶纪物种大灭绝4.38亿年前气候变化50%的物种灭绝，主要为海洋生物泥盆纪物种大灭绝3.6亿年前伽马射线辐射40%的物种灭绝二叠纪物种大灭绝2.45亿年前火山活动等超过95%的物种灭绝白垩纪物种大灭绝6600万年前陨星撞击等45%的物种灭绝肉食性（兽脚类）恐龙(20张)来自中国的古生物学和物理学家黎阳2009年在耶鲁大学发表的论文引起国际古生物学界的轰动，他和他的中国团队在6534.83万年前的希克苏鲁伯陨石坑K－T线地层中发现了高浓度的铱，其含量超过正常含量232倍。如此高浓度的铱只有在太空中的陨石中才可以找到，地球本身是不可能存在的。根据墨西哥湾周围铱元素含量的精确测定，当时是一颗质量相当于珠穆朗玛峰的小行星的物质不仅撞击了地球中美洲地区，还撞破了地壳，然后是地球上从来没有发生过的大地震。撞击使熔浆被抛到数千米的高空，继而是长达几十天的流火现象，高温也许不是最致命的。数以千万吨的灰尘、有毒物质在随后的一个月内遍及全球。 [14]在以后的四个多月里，太阳只是一个模糊的影子，植物停止了生长，食草动物大量减少，污浊的空气、短缺的食物、肆意的疾病等无不摧残着幸存下来的恐龙。由于尘土的遮盖，地球上面临着寒冷的侵袭。但寒冷似乎不是最严重的问题，但是，请记住一些动物的性别是由温度决定的，恐龙正是其中之一。造成此次生物的大灭绝。 [12]以前学术界都是把外来天体撞击说和火山喷发说分开讨论的，但这两个学术都有相当大的缺陷，外来天体说光是撞击不足以影响那么严重，时间那么久，范围那么远（全球性的），而火山说，地球上的火山活动本身就很多很剧烈，但都不足引起如此大的生物灭绝，包括黄石超级火山在内，而中国学者黎阳提供的论证方向和证据完美地解答了国际古生物界的长期疑问，两者的结合才可能造成如此重大的地球生物大灭绝。 [12]2000年理论兽脚类恐龙(20张)德国科学家提出，恐龙灭绝是由当时恶劣的“空间天气”造成的，也就是说，来自宇宙的强烈粒子流闯入地球大气并导致地球气候发生剧烈变化，从而致使恐龙灭绝。 [12]美国物理学家路易·阿尔瓦雷兹提出的小行星撞击地球的假说备受各方关注。他在研究意大利古比奥地区白垩纪末期地层中的黏上层时发现微量元素枣铱的含量比其他时期地层陡然增加了30～160多倍，之后人们从全球多处地点取样检测都得出同样结论，白垩纪末期地层中铱元素含量异常增高的确是普遍性的。于是阿尔瓦雷兹认为在白垩纪末期有一颗直径约10公里的小行星撞击了地球，产生的尘埃遮天蔽日。造成地表气候环境巨变，导致了恐龙的消亡。 [12]肿头龙类恐龙(14张)科学家认为，正是宇宙粒子流的爆发导致了地球气候条件的剧烈变化，而不能适应此种气候变化的恐龙也因此在较短时间内灭绝。 [12]我们知道，地球内部的热核反应会不断积聚起巨大能量，一旦地壳承受不住时，内部压力便冲破地壳突然释放形成大爆发。铱枣这种主要存在于地核内的元素在大爆发时通过熔岩喷发从地球深处被带到地壳表层，而公认的标志白垩纪结束的黏土层正是由大量火山灰尘堆积形成。所以，白垩纪末期地层中铱含量普遍增多证明当时地壳曾发生了普遍性剧烈喷发。 [12]化石档案告诉我们，绝大多数恐龙的死亡时间和绝大部分恐龙蛋化石的产出年代是在白垩纪末期，已发现的恐龙和恐龙蛋化石全部保存在富含铱的薄黏土层下的地层中，这与地质学界认定的白垩纪末期大规模造山运动等一系列全球性地壳构造剧烈变动的时间相吻合。 [12]兽脚类(20张)在内蒙古巴音满都呼白垩纪末期的地层里出土的数百个原角龙和甲龙化石中，大量完整的恐龙骨架成群堆积在一起，从遗骸的埋葬姿势看，它们是在极度痛苦中死去，其中还有整群的恐龙幼仔骨架。这一情景显示它们是灾难性的集体死亡。 [12]大量体现当时地球环境特征的动植物化石显示，白垩纪末期以前，地球大气层的密度和厚度远远超过2000年，地表较为平坦，全球都是非常温暖潮湿的气候环境。那时极地和赤道温差很小，20世纪80年代，加拿大地质学家曾在北极圈内的埃尔斯米尔岛发现了一片以水杉为主的化石树林，林中还有鳄等动物化石，说明极地曾具有热带的气候环境。 [12]一些早在侏罗纪就已经进化为原始鸟类、哺乳类的动物、遵循自然界物竞天择、适者生存的法则，在相对恶劣的环境中，经过7000万年不断演变，大多数物种改变了原来的形态。当然，每次大规模物种进化后，总会有一些物种保留原状，像鱼类进化为两栖类后，鱼类还延续生存，爬行类中也有极少数（鳄、蜥蜴等）至今仍然保持了7000万年前的原始形态。 [12]中生代的鸟类（鸟类是一种特殊恐龙）(19张)地球岩层中的生物遗迹揭示，在生物进化史上，每隔一定时期就会发生一次物种大灭绝，白垩纪末期的恐龙灭绝不是生物进化史上唯一的灾难，在更早的年代曾发生过绝大部分无脊椎动物在很短时间突然出现的“寒武纪生命大爆炸”现象。就像生物从单细胞向多细胞进化与爬行动物向哺乳动物进化一样，它们需要一个进化的过程（有1984年发现的中国云南澄江化石群为证）。 [12]地球内部至今仍在继续的地质构造频繁变动的事实表明，周期性地壳构造变动引起的环境“灾变”在生物进化过程中始终起主导作用，当然，小规模的物种逐渐进化也是贯穿于整个生命演变过程。周期性天体爆发（如新星爆发）是包括地球在内的所有行星在演变过程中不可缺少的重要环节。那些山脉中的海洋生物化石和海底矿藏就是解释恐龙时代因地壳剧烈变动而终结的最好说明。我们知道，恐龙灭绝的时间是在距今约6500万年前，地质年代为中生代白垩纪末或新生代第三纪初。而且在那个时候，不仅统治了地球达1亿多年的各种恐龙全部绝灭了，同样悲惨的命运还同时降临到了地球上的很多种其它的生物头上。在这次灾难中灭绝的还有鱼龙、蛇颈龙等海洋爬行动物，有翼龙等会飞的爬行动物，有彩蜥等恐龙的陆生爬行动物亲戚，有菊石、箭石等海洋无脊椎动物﹔海洋中的微型浮游动植物，钙质浮游有孔虫和钙质微型浮游植物等也几乎被一扫而光。经过这场大劫难，当时地球上大约50%的生物属和几乎75%的生物种从地球上永远地消失了。 [12]这场大灭绝使得在距今约6500万年这个时间的前后，地球上生物世界的面貌发生了根本性的巨变。这场大灭绝标志着中生代的结束，地球的地质历史从此进入了一个新的时代——新生代。 [12]在此，仅将一些较为人所知的说法分述如下：饿死、互相残杀等等，不过说法越来越多，但中国科学家考证，陨石撞击后，恐龙还存活了200万年左右。 [12]陨星撞击说恐龙灭绝全过程（陨石撞击）(24张)1980年，美国科学家阿弗雷兹父子在6500万年前的地层中发现了高浓度的铱，其含量超过正常含量几十甚至数百倍。这样浓度的铱在陨石中可以找到，因此，科学家们就把它与恐龙灭绝联系起来。根据铱的含量还推算出，撞击物体是直径大约10公里的一颗小行星，这么大的陨石撞击地球，是一次无与伦比的打击，以地震的强度来计算，大约是里氏10级，而撞击产生的陨石坑直径将超过100公里。科学工作者用了10年时间，终于有了初步结果，他们在中美洲墨西哥犹卡坦半岛的地层中找到了这个大坑。据推算，这个坑的直径在180～300公里之间。在2000年，科学工作者们还在对这个大坑做进一步的研究。 [12]由于这一陨石坑现已被找到，科学家也已经掌握了一些相关证据，所以，恐龙灭绝之谜似乎可以尘埃落定了。 [12]大部分人比较接受的说法是墨西哥湾的一颗巨大的小行星撞击引发了一连串的事件，戏剧性地改变了气候，扼杀了大多数大型物种。现在，在撞击现场的新发现已经与恐龙灭绝的时间线相吻合，为这一理论提供了重要依据。研究人员在《科学进展》杂志上宣布，他们已经将陨石坑中发现的小行星尘埃的化学成分与其他样本进行了匹配，这些样本的年龄与大灭绝的确切时间相吻合。当小行星在撞击后基本被蒸发时，该事件会引起大量的尘埃和碎片。所有这些尘埃会漂浮数十年，阻挡了来自太阳的光线，既改变了地球的温度，也极大地影响了植物的生长。灭亡原因当地球的部分地区开始迅速变化，并经历大规模的植物死亡时，食草动物会受到严重影响。随着这些动物的死亡，猎杀它们的食肉动物也会因缺乏食物而最终死亡。气候变化气候变化说由于板块移动，海流产生改变，更引起气候的巨幅改变。严寒而干燥的气候使植物死亡，恐龙缺乏食物而导致了灭亡。 [12]海洋退潮说根据罗伯特·巴克的说法，海洋退潮，陆地之间相接壤时，生物彼此相接触，因而造成某种类的生物绝种。例如袋鼠，袋鼠能在大洋洲这种岛屿大陆上生存，但在南美大陆上遇见别种动物就宣告灭亡。除了这种吃与被吃的关系外，还有疾病与寄生虫等的传染与传播问题。 [12]火山爆发说因为火山的爆发，二氧化碳大量喷出，造成地球急激的温室效应，使得植物死亡。而且，火山喷发使得盐素大量释出，臭氧层破裂，有害的紫外线照射地球表面，造成生物灭亡。但这个学说有一个前提，那就是火山大规模地爆发。 [12]意大利著名物理学家安东尼奥·齐基基提出，恐龙大绝灭的原因很可能是大规模的海底火山爆发。齐基基教授认为，白垩纪末期，地球上在海洋底下发生了一系列大规模的火山爆发，从而影响了海水的热平衡，并进而引起了陆地气候的变化，因此影响了需要大量食物维持生存的恐龙等动物的生存。 [12]造山运动说小行星撞击地球在白垩纪末期发生的造山运动使得沼泽干涸，许多以沼泽为家的恐龙就无法再生活下去。因为气候变化，植物也改变了，食草性的恐龙不能适应新的食物，而相继灭绝。食草性恐龙的灭绝使肉食性恐龙也失去了依持，结果也灭绝了。此灭绝过程持续了1000万～2000万年。到了白垩纪末期，恐龙在地球上绝迹。 [12]温血动物说过去，所有的科学家都认为恐龙像其他爬行动物一样是冷血动物或变温动物，但是随着化石资料的不断增多，人们的认识也发生了变化，有人提出，有些恐龙可能是温血动物。首先，他们认为有些恐龙行动极为敏捷，也不是像蛇一样在地上爬行，而是靠两条后腿在地面上跑动，其速度可达每小时20至90多公里。这就需要有强壮的心脏并且维持较高的新陈代谢，这些显然冷血动物是做不到的。其次，恐龙的食量都相当大，据推测，一头30吨重的蜥脚类恐龙，每天可能要吃掉近2吨食物，只有温血动物才需要这么多的能量。从食肉恐龙远远少于食草恐龙来看，这一点也是合理的。另外，还有一些身体较小的恐龙，它们身上覆盖着一层羽毛或毛发，这也是为了防止体温散失。其它方面，如骨骼的研究，也初步表明一些恐龙是温血动物。温血恐龙的说法一提出，就受到强烈抨击，但到底结论如何，还难下定论。 [12]南极龙(28张)有些人认为恐龙是温血性动物，因此可能禁不起白垩纪晚期的寒冷气候而导致无法存活。因为即使恐龙是温血性，体温仍然不高，可能和现生树懒的体温差不多，而要维持这样的体温，也只能生存在热带气候区。同时恐龙的呼吸器官并不完善，不能充分补给氧。温血动物和冷血动物不一样的地方，就是如果体温降到一定的范围之下，就要消耗体能以提高体温，身体也就很快地变得虚弱。它们过于庞大的体躯，不能进入洞中避寒，所以如果寒冷的日子持续几天，可能就会因为耗尽体力而遭到冻死的命运。但是，这种学说有一个疑点，那就是恐龙不都是那么庞大的，也不一定都不能躲进洞里避难，所以这种学说也有不完善的地方。 [12]哺乳进化说（偷吃说）在中生代后半，已有哺乳类的祖先生存。据化石的记录，当时的哺乳类体型甚小，数量也有限，直到白垩纪的后期，数量才开始急速增加。推测它们属于以昆虫等为主食的杂食性，这些小型哺乳类发现恐龙卵之后，即不断取而食之，最终导致恐龙的生育危机，导致恐龙灭绝。 [12]骤变理论说根据深海地质钻探得到的资料，一些科学家认为在6500万年前的地球上的气候发生了异常的变化，温度忽然升高。这种变化使恐龙等散热能力较弱的变温动物无法很好地适应环境，引起其身体中的内分泌系统紊乱，尤其是造成雄性个体的生殖系统严重损坏。结果，恐龙无法繁殖后代，从而走向了最终的绝灭。 [12]还有一种理论，虽然同样是认为气候骤变引起恐龙绝灭，但是推测的过程却不一样。这一派学者认为，在距今大约7000万年前，北冰洋与其它大洋之间被陆地完全隔开，并在最后的日子里，那咸咸的海水因各种因素的作用渐渐地变成了淡水。到了距今6500万年前，分隔北冰洋与其它大洋的“堤岸”突然发生了决口。大量因淡化而变轻的北冰洋的水流入其它大洋。由于北冰洋的水温度很低，这些“外溢”的冷水形成了一层冷流，使得地球大洋的海水温度迅速地下降了大约20度。海洋温度的下降又严重影响了大陆气候，使大陆上空的空气变冷。同时，空气中的水蒸气含量也迅速减少，引起了陆地上普遍的干旱。 [12]气候骤变造成恐龙绝灭的一条可能的途径是严重影响恐龙的卵。一些科学家发现，在恐龙灭绝之前的白垩纪末期，恐龙蛋的蛋壳有变薄的趋势，说明在恐龙大绝灭之前有气候急剧变化造成的作用。中国的一些古生物学家也发现，在一些化石地点产出的恐龙蛋中，临近绝灭时期的那些恐龙蛋蛋壳上的气孔比其它时期的恐龙蛋蛋壳中的气孔要少，这很可能与气候变得寒冷干燥有关。 [12]物种进化说认为恐龙由于繁荣期长达1.6亿年，使得肉体过于巨体化。而且，角和其它骨骼也出现异常发达的现象，因此在生活上产生极大的不便，最终导致绝种。 [12]恐龙中最具代表性的迷惑龙，体长25米，体重达30吨，由于体型过于庞大，使动作迟钝而丧失了生活能力。另外，三角龙等则因不断巨大化的三只角以及保护头部的骨骼等部位异常发达，反而走向自灭之途。 [12]受挫理论说已经在世界上许多地方陆续发现了古老爬行类的蛋化石，尤其是恐龙的蛋化石。按照形态结构，可以把恐龙蛋分为短圆蛋、椭圆蛋和长形蛋等种类。恐龙蛋的大小变化范围很大，蛋壳厚度及其内外部“纹饰”、蛋壳结构及其壳层中的椎状层和柱状层比例变化范围都存在不同的差异。为了深入开展恐龙蛋内部特征的研究，科学家已经采用了很新的技术和多种方法，如扫描隧道显微镜、x射线衍射仪、偏光显微镜、CT扫描仪等等。中国科学家首次采用CT技术对山东莱阳出土的恐龙蛋化石进行了无损伤内部结构特征的研究，发现了山东莱阳的一些恐龙蛋化石具有其它方法无法观察到的恐龙胚胎。一些科学工作者认为。恐龙胚胎的变形与错位，有可能导致恐龙蛋无法正常孵化，从而使恐龙走向衰弱最终灭绝。 [12]变化理论说白垩纪末期的恐龙大绝灭是生物历史上的一个千古之谜，科学家提出了一个又一个的理论来试图解释其原因，但是至今没有一个让所有人都能够接受的定论。较为流行的说法是小行星撞击地球引起的灾难导致了恐龙的灭绝，但是这一理论并不完善。因为恐龙是当时地球上最成功的动物，其丰富的多样性更是表现得大小不等、形态各异、生活方式也是多种多样。 [12]现代科学分析使我们了解到，在地球刚刚形成的遥远年代里，空气中基本上没有氧气，二氧化碳的含量却很高。后来，随着自养生物的出现，光合作用开始了消耗二氧化碳和制造氧气的过程，从而改变了地球上的大气环境。同时，二氧化碳一方面通过生物的固定以煤、石油沉积在地层里，另一方面也通过有机或无机的过程以各类碳酸盐的形式沉积下来。这种沉积是一直进行的。 [12]有证据表明，恐龙生活的中生代二氧化碳的浓度很高，而其后的新生代二氧化碳的浓度却较低。 [12]众所周知，每种生物都需要在适当的环境里才能够正常地生活，环境的变化常常能够导致一个物种的兴衰。当环境有利于这一物种时，它就会兴旺发展﹔反之，则会衰落甚至绝灭。环境因素包括温度、水等因素，还包括大气的成分。那么，大气成分的变化会不会影响生物的生活呢？答案是肯定的。 [12]恐龙生活的中生代，大气中的二氧化碳的含量较高，说明恐龙很适应于高二氧化碳浓度的大气环境。也许只有在那种大气环境中，它们才能很好的生活。当时，尽管哺乳动物也已经出现，但是它们始终没有得到大发展，也许这正是由于大气成分以及其它环境对它们并不十分有利，因此它们在中生代一直处于弱小的地位，发展缓慢。随着时间推移，到了白垩纪之末，大气环境发生了巨大的变化，二氧化碳的含量降低，氧气的含量增加，这种对恐龙不利的环境可能体现在两个方面：1、恐龙的身体发生了不适，在新的环境下，很容易得病，而且疾病会像瘟疫一样蔓延。2、新的大气环境更适于哺乳动物的生存，哺乳动物成为更先进、适应性更强的竞争者。在这两种因素的作用下，恐龙最终灭绝了。而那些孑遗的爬行动物则是少数既能适应旧环境，又能适应新环境的少数爬行动物物种。 [12]大气成分变化造成恐龙灭绝这一理论有两个出发点，一个是中生代的大气成分与现代不同，另一个是每种生物需要合适的大气环境才能生存。远古时代的大气中几乎没有氧气，而二氧化碳的含量很高。后来由于生物的出现，在光合作用下大气中二氧化碳的含量逐渐减少、氧气的含量逐渐增加的这一过程也许可以解释生物进化史中的很多现象。例如寒武纪的生命大爆发，这也是进化史中的一个难解之谜。大气成分变化也可以对此作出解释，因为动物不能直接利用无机物进行光合作用，它的起源落后于植物的起源，必须发生于大气中的氧气含量达到相当的程度时。因此，寒武纪的生命大爆发必须以大气中的氧气含量已经达到了一定程度做保障，而这一点已经被科学所证明。 [12]除了上述12种比较著名之说外，还有许多较鲜为人知的说法（如太阳黑子爆发、电磁扰动、地球磁场方向及强弱发生变化）。 [12]但无论发生了什么，有一点是不容质疑的，那就是恐龙无法适应所发生的事件所造成的影响或改变。 [12]最新研究结果科学家最新研究显示，0.65亿年前小行星碰撞地球时间或早或晚都可能不会导致恐龙灭绝，真实灭绝原因是当时恐龙处于较脆弱的生态系统中，环境剧变易导致灭绝。 [12]0.65亿年前小行星碰撞地球之前，恐龙就已遭受环境变化的影响，大量的火山活动和温度变化，导致恐龙生态系统易受伤害。如果小行星碰撞地球早发生数百万年，大量的恐龙种类以及较稳定的食物链，使恐龙能幸存下来；如果小行星碰撞地球晚发生数百万年，恐龙将有机会完善进化，更好地适应恶劣环境条件，可能逃离灭绝厄运。 [12]大约0.65亿年前，当直径10公里的一颗小行星碰撞在现今墨西哥境内，恐龙世界遭受了环境剧变，使它们处于易受伤害的状态中。这项最新研究是由英国爱丁堡大学古生物学家带领一支国际研究小组负责的，他们研究分析大量恐龙化石标本，其中多数挖掘自北美洲。 [12]研究小组发现全球广泛出现的火山活动性，海平面变化以及气温波动，导致恐龙食物链出现危机，此时，一颗直径10公里的小行星碰撞地球，更是雪上加霜，加速了恐龙灭绝消亡。 [12]这项最新研究报告发表在近期出版的《生物学评论杂志》上。当小行星碰撞地球将导致海啸、地震、野火、气温突然变动以及其它环境因素变化，对原本脆弱的恐龙生态系统带来致命一击，使得恐龙物种陆续灭绝消失。幸存的是空中飞行的恐龙物种，它们逐渐进化形成现今的鸟类。英国爱丁堡大学地质科学院的史蒂夫·布鲁萨特博士说：“恐龙是‘糟糕运气’的受害者，当时地球遭受一颗巨大小行星碰撞，正值恐龙生态系统处于最差时期，恐龙很容易遭受攻击伤害。这项最新研究有助于澄清解释恐龙灭绝之谜。” [12]恐龙消失的元凶是月球恐龙在地球上的消失是整个地球气候环境的改变造成的，恐龙时期的气候环境与恐龙消失后的气候环境是两个不同的气候环境。谁有那么大的能量控制整个地球的气候环境呢？在月球的起源里有一个俘获说，地球在白垩期末期俘获了月球，俘获的时间与恐龙在地球消失的时间有吻合的地方。而科学家证明地球的一年四季是月球造成的，恐龙时期的地球是没有一年四季的，当时的赤道与北极都是森林与恐龙，而6500万年后的北极是寒冷的世界。恐龙时期的植物与动物的个子要比现在同样的植物与动物的个子要大？原因就是不同气候环境造成的。在恐龙时期，地球一年四季如春，恐龙消失后地球有了一年四季。在俘获说里也提到了造山运动与大陆漂移，跟恐龙“灭绝”的假说也有吻合的地方，当时地球发生了造山运动与漂移。 [12]如果是突发灾难引起的恐龙消失，那么灾难过后，为什么地球没有恢复到原来恐龙时期的气候环境呢？突发的灾难会使地球的植物的个子突然变小，突发的灾难也会导致整个地球植物分布有一个很大变化。可科学家在这化石的发现与突发的灾难不吻合。科学家在植物化石的发现是缓慢的过程，而不是突然的变化。 [12]如果是月球在白垩纪末期进入现在的位置，从环境改变来解析恐龙消失的原因，更能合理的解释当时地球上发生的事情。 [12]恐龙孵蛋2018年5月16日，日本名古屋大学的研究团队在英国科学杂志发表科研成果称，大型恐龙可能通过不把蛋压碎的摆放方式，自己进行“孵蛋”。此研究成果或将为弄清大型恐龙的繁殖方式提供重要线索。 [12]相关场馆播报编辑自贡恐龙博物馆是在世界著名的“大山铺恐龙化石群遗址”上就地兴建的一座大型遗址类博物馆，也是我国第一座专业恐龙博物馆，世界三大恐龙遗址博物馆之一。 [18]被誉为“东方龙宫”的自贡恐龙博物馆，位于自贡市东北部，距市中心10公里，是在“大山铺恐龙化石群遗址”上建设的大型遗址类自然博物馆。1987年建成开放，是亚洲建成最早、影响最大的恐龙博物馆，也是全世界最著名的恐龙博物馆之一。被美国《国家地理》杂志评价为“世界上最好的恐龙博物馆”，恐龙化石数量占全国的五分之一，在国际上能与之齐名的还不多。 [20] [23]新手上路成长任务编辑入门编辑规则本人编辑我有疑问内容质疑在线客服官方贴吧意见反馈投诉建议举报不良信息未通过词条申诉投诉侵权信息封禁查询与解封©2025\\xa0Baidu\\xa0使用百度前必读\\xa0|\\xa0百科协议\\xa0|\\xa0隐私政策\\xa0|\\xa0百度百科合作平台\\xa0|\\xa0京ICP证030173号\\xa0京公网安备11000002000001号')"
      ]
     },
     "execution_count": 1,
     "metadata": {},
     "output_type": "execute_result"
    }
   ],
   "source": [
    "from langchain.document_loaders import WebBaseLoader\n",
    "\n",
    "urls = [\n",
    "    \"https://baike.baidu.com/item/恐龙/139019\",\n",
    "    \n",
    "]\n",
    "loader = WebBaseLoader(urls)\n",
    "docs = loader.load()\n",
    "\n",
    "docs[0]"
   ]
  },
  {
   "cell_type": "code",
   "execution_count": 17,
   "metadata": {},
   "outputs": [
    {
     "data": {
      "text/plain": [
       "['1841年，英国科学家理查德·欧文在研究几块样子像蜥蜴骨头化石时，认为它们是某种史前动物留下来的，并命名为恐龙，意思是“恐怖的蜥蜴”。',\n",
       " '恐龙可分为鸟类和非鸟恐龙。',\n",
       " '恐龙整体而言的体型很大。以恐龙作为标准来看，蜥脚下目是其中的巨无霸。',\n",
       " '最长的恐龙是27米长的梁龙，是在1907年发现于美国怀俄明州。',\n",
       " '恐龙采样产卵、孵蛋的方式繁殖。',\n",
       " '恐龙是介于冷血和温血之间的动物',\n",
       " '科学家最新研究显示，0.65亿年前小行星碰撞地球时间或早或晚都可能不会导致恐龙灭绝，真实灭绝原因是当时恐龙处于较脆弱的生态系统中，环境剧变易导致灭绝。',\n",
       " '恐龙灭绝的时间是在距今约6500万年前，地质年代为中生代白垩纪末或新生代第三纪初。',\n",
       " '鳄鱼是另一群恐龙的现代近亲，但两者关系较非鸟恐龙与鸟类远。',\n",
       " '1842年，英国古生物学家理查德·欧文创建了“dinosaur”这一名词。英文的dinosaur来自希腊文deinos（恐怖的）Saurosc（蜥蜴或爬行动物）。对当时的欧文来说，这“恐怖的蜥蜴”或“恐怖的爬行动物”是指大的灭绝的爬行动物（实则不是）']"
      ]
     },
     "execution_count": 17,
     "metadata": {},
     "output_type": "execute_result"
    }
   ],
   "source": [
    "from datasets import Dataset\n",
    "\n",
    "questions = [\n",
    "    \"恐龙是怎么被命名的？\",\n",
    "    \"恐龙怎么分类的？\",\n",
    "    \"体型最大的是哪种恐龙?\",\n",
    "    \"体型最长的是哪种恐龙？它在哪里被发现？\",\n",
    "    \"恐龙采样什么样的方式繁殖？\",\n",
    "    \"恐龙是冷血动物吗？\",\n",
    "    \"陨石撞击是导致恐龙灭绝的原因吗？\",\n",
    "    \"恐龙是在什么时候灭绝的？\",\n",
    "    \"鳄鱼是恐龙的近亲吗？\",\n",
    "    \"恐龙在英语中叫什么？\",\n",
    "]\n",
    "ground_truths = [\n",
    "    [\n",
    "        \"1841年，英国科学家理查德·欧文在研究几块样子像蜥蜴骨头化石时，认为它们是某种史前动物留下来的，并命名为恐龙，意思是“恐怖的蜥蜴”。\"\n",
    "    ],\n",
    "    [\"恐龙可分为鸟类和非鸟恐龙。\"],\n",
    "    [\"恐龙整体而言的体型很大。以恐龙作为标准来看，蜥脚下目是其中的巨无霸。\"],\n",
    "    [\"最长的恐龙是27米长的梁龙，是在1907年发现于美国怀俄明州。\"],\n",
    "    [\"恐龙采样产卵、孵蛋的方式繁殖。\"],\n",
    "    [\"恐龙是介于冷血和温血之间的动物\"],\n",
    "    [\n",
    "        \"科学家最新研究显示，0.65亿年前小行星碰撞地球时间或早或晚都可能不会导致恐龙灭绝，真实灭绝原因是当时恐龙处于较脆弱的生态系统中，环境剧变易导致灭绝。\"\n",
    "    ],\n",
    "    [\"恐龙灭绝的时间是在距今约6500万年前，地质年代为中生代白垩纪末或新生代第三纪初。\"],\n",
    "    [\"鳄鱼是另一群恐龙的现代近亲，但两者关系较非鸟恐龙与鸟类远。\"],\n",
    "    [\n",
    "        \"1842年，英国古生物学家理查德·欧文创建了“dinosaur”这一名词。英文的dinosaur来自希腊文deinos（恐怖的）Saurosc（蜥蜴或爬行动物）。对当时的欧文来说，这“恐怖的蜥蜴”或“恐怖的爬行动物”是指大的灭绝的爬行动物（实则不是）\"\n",
    "    ],\n",
    "]\n",
    "ground_truths = [\n",
    "    \"\".join(item) if isinstance(item, list) else item for item in ground_truths\n",
    "]\n",
    "ground_truths"
   ]
  },
  {
   "cell_type": "code",
   "execution_count": 14,
   "metadata": {},
   "outputs": [
    {
     "data": {
      "text/plain": [
       "['1841年，英国科学家理查德·欧文在研究几块样子像蜥蜴骨头化石时，认为它们是某种史前动物留下来的，并命名为恐龙，意思是“恐怖的蜥蜴”。',\n",
       " '恐龙可分为鸟类和非鸟恐龙。']"
      ]
     },
     "execution_count": 14,
     "metadata": {},
     "output_type": "execute_result"
    }
   ],
   "source": [
    "from datasets import Dataset\n",
    "questions = [\n",
    "    \"恐龙是怎么被命名的？\",\n",
    "    \"恐龙怎么分类的？\",\n",
    "]\n",
    "ground_truths = [\n",
    "    [\n",
    "        \"1841年，英国科学家理查德·欧文在研究几块样子像蜥蜴骨头化石时，认为它们是某种史前动物留下来的，并命名为恐龙，意思是“恐怖的蜥蜴”。\"\n",
    "    ],\n",
    "    [\"恐龙可分为鸟类和非鸟恐龙。\"],\n",
    "]\n",
    "ground_truths = [\n",
    "    \"\".join(item) if isinstance(item, list) else item for item in ground_truths\n",
    "]\n",
    "ground_truths"
   ]
  },
  {
   "cell_type": "markdown",
   "metadata": {},
   "source": [
    "### 加载embedding模型"
   ]
  },
  {
   "cell_type": "code",
   "execution_count": 3,
   "metadata": {},
   "outputs": [
    {
     "name": "stderr",
     "output_type": "stream",
     "text": [
      "/tmp/ipykernel_1698782/3086997738.py:8: LangChainDeprecationWarning: The class `HuggingFaceBgeEmbeddings` was deprecated in LangChain 0.2.2 and will be removed in 1.0. An updated version of the class exists in the :class:`~langchain-huggingface package and should be used instead. To use it run `pip install -U :class:`~langchain-huggingface` and import as `from :class:`~langchain_huggingface import HuggingFaceEmbeddings``.\n",
      "  bge_embeddings = HuggingFaceBgeEmbeddings(\n"
     ]
    }
   ],
   "source": [
    "from langchain.embeddings import HuggingFaceBgeEmbeddings\n",
    "\n",
    "mode_name = \"/DATA/LLM_model/bge-large-zh-v1.5/\"\n",
    "model_kwargs={\"device\": \"cuda:2\"}\n",
    "encode_kwargs = {'normalize_embeddings': True}\n",
    "\n",
    "# 创建BAAI的embedding\n",
    "bge_embeddings = HuggingFaceBgeEmbeddings(\n",
    "    model_name=mode_name,\n",
    "    model_kwargs=model_kwargs,\n",
    "    encode_kwargs={\"normalize_embeddings\": True},\n",
    "    query_instruction=\"为文本生成向量表示用于文本检索\",\n",
    ")"
   ]
  },
  {
   "cell_type": "markdown",
   "metadata": {},
   "source": [
    "### 创建父类检索器"
   ]
  },
  {
   "cell_type": "code",
   "execution_count": 18,
   "metadata": {},
   "outputs": [],
   "source": [
    "from langchain.text_splitter import RecursiveCharacterTextSplitter\n",
    "from langchain.retrievers import ParentDocumentRetriever # 父文档检索器\n",
    "from langchain.storage import InMemoryStore # 内存存储\n",
    "from langchain.vectorstores import Chroma # 向量数据库\n",
    "import torch\n",
    "\n",
    "# 创建主文档分割器\n",
    "parent_splitter = RecursiveCharacterTextSplitter(chunk_size=1000)\n",
    "\n",
    "# 创建子文档分割器\n",
    "child_splitter = RecursiveCharacterTextSplitter(chunk_size=200)\n",
    "\n",
    "\n",
    "# 创建向量数据库对象\n",
    "vectorstore = Chroma(collection_name=\"split_parents\", embedding_function=bge_embeddings)\n",
    "# 创建内存存储对象\n",
    "store = InMemoryStore()\n",
    "# 创建父文档检索器\n",
    "retriever = ParentDocumentRetriever(\n",
    "    vectorstore=vectorstore,\n",
    "    docstore=store,\n",
    "    child_splitter=child_splitter,\n",
    "    parent_splitter=parent_splitter,\n",
    "    search_kwargs={\"k\": 2},\n",
    ")\n",
    "\n",
    "# 添加文档集\n",
    "retriever.add_documents(docs)"
   ]
  },
  {
   "cell_type": "code",
   "execution_count": null,
   "metadata": {},
   "outputs": [
    {
     "name": "stdout",
     "output_type": "stream",
     "text": [
      "[1]名称释义播报编辑恐龙“恐龙”一词在西方指恐蜥（恐怖的蜥蜴），日本的古生物学家译为“恐竜”，后来流行于中国。古希腊语蜥蜴（Saurosc），特指一些巨大的有四肢有尾或兼有翼的类似蜥蜴的爬虫。\n"
     ]
    }
   ],
   "source": [
    "sub_docs = vectorstore.similarity_search(\"恐龙的英文是\")\n",
    "print(sub_docs[0].page_content)"
   ]
  },
  {
   "cell_type": "code",
   "execution_count": null,
   "metadata": {},
   "outputs": [
    {
     "name": "stdout",
     "output_type": "stream",
     "text": [
      "<class 'str'>\n"
     ]
    },
    {
     "name": "stderr",
     "output_type": "stream",
     "text": [
      "/tmp/ipykernel_1143959/3813071434.py:1: LangChainDeprecationWarning: The method `BaseRetriever.get_relevant_documents` was deprecated in langchain-core 0.1.46 and will be removed in 1.0. Use :meth:`~invoke` instead.\n",
      "  retrieved_docs = retriever.get_relevant_documents(\"恐龙的英文是\")\n"
     ]
    }
   ],
   "source": [
    "retrieved_docs = retriever.get_relevant_documents(\"恐龙的英文是\")\n",
    "print(type(retrieved_docs[0].page_content))"
   ]
  },
  {
   "cell_type": "markdown",
   "metadata": {},
   "source": [
    "### 加载LLM模型（qwen2.5:1.5b）"
   ]
  },
  {
   "cell_type": "code",
   "execution_count": 5,
   "metadata": {},
   "outputs": [
    {
     "data": {
      "application/vnd.jupyter.widget-view+json": {
       "model_id": "f8bd2a8445984ef69381c19511b0c977",
       "version_major": 2,
       "version_minor": 0
      },
      "text/plain": [
       "Loading checkpoint shards:   0%|          | 0/2 [00:00<?, ?it/s]"
      ]
     },
     "metadata": {},
     "output_type": "display_data"
    },
    {
     "name": "stderr",
     "output_type": "stream",
     "text": [
      "Device set to use cuda:2\n",
      "/tmp/ipykernel_1698782/3029199397.py:28: LangChainDeprecationWarning: The class `HuggingFacePipeline` was deprecated in LangChain 0.0.37 and will be removed in 1.0. An updated version of the class exists in the :class:`~langchain-huggingface package and should be used instead. To use it run `pip install -U :class:`~langchain-huggingface` and import as `from :class:`~langchain_huggingface import HuggingFacePipeline``.\n",
      "  llm = HuggingFacePipeline(pipeline=pipe)\n"
     ]
    }
   ],
   "source": [
    "from transformers import AutoModelForCausalLM, AutoTokenizer\n",
    "from langchain_community.llms import HuggingFacePipeline\n",
    "from transformers import pipeline\n",
    "import torch\n",
    "# 创建openai model\n",
    "model_path = \"/DATA/LLM_model/Qwen/Qwen2.5-3B-Instruct\"\n",
    "\n",
    "# 指定使用编号GPU 加载模型\n",
    "device = torch.device(\"cuda:2\")\n",
    "# 加载分词器和模型\n",
    "tokenizer = AutoTokenizer.from_pretrained(model_path)\n",
    "model = AutoModelForCausalLM.from_pretrained(model_path, device_map={\"\": device})\n",
    "\n",
    "\n",
    "# 创建pipeline\n",
    "pipe = pipeline(\n",
    "    \"text-generation\",\n",
    "    model=model,\n",
    "    tokenizer=tokenizer,\n",
    "    max_new_tokens=512,\n",
    "    temperature=0.1,\n",
    "    top_p=0.95,\n",
    "    repetition_penalty=1.15,\n",
    "    \n",
    ")\n",
    "\n",
    "# 创建LLM\n",
    "llm = HuggingFacePipeline(pipeline=pipe)"
   ]
  },
  {
   "cell_type": "markdown",
   "metadata": {},
   "source": [
    "### 构建chain"
   ]
  },
  {
   "cell_type": "code",
   "execution_count": 7,
   "metadata": {},
   "outputs": [],
   "source": [
    "from langchain.prompts import ChatPromptTemplate\n",
    "from langchain.schema.output_parser import StrOutputParser\n",
    "from langchain.schema.runnable import RunnableMap\n",
    "\n",
    "template = \"\"\"You are an assistant for question-answering tasks. \n",
    "Use the following pieces of retrieved context to answer the question. \n",
    "If you don't know the answer, just say that you don't know. \n",
    "Use two sentences maximum and keep the answer concise.\n",
    "Question: {question} \n",
    "Context: {context} \n",
    "Answer:\n",
    "\"\"\"\n",
    "\n",
    "# 创建prompt\n",
    "prompt = ChatPromptTemplate.from_template(template)\n",
    "\n",
    "# 构建chain\n",
    "chain = RunnableMap({\n",
    "    \"context\": lambda x: retriever.get_relevant_documents(x[\"question\"]),\n",
    "    \"question\": lambda x: x[\"question\"]\n",
    "}) | prompt| llm| StrOutputParser()"
   ]
  },
  {
   "cell_type": "markdown",
   "metadata": {},
   "source": [
    "### 测试chain"
   ]
  },
  {
   "cell_type": "code",
   "execution_count": 8,
   "metadata": {},
   "outputs": [
    {
     "name": "stderr",
     "output_type": "stream",
     "text": [
      "/tmp/ipykernel_1698782/356167565.py:19: LangChainDeprecationWarning: The method `BaseRetriever.get_relevant_documents` was deprecated in langchain-core 0.1.46 and will be removed in 1.0. Use :meth:`~invoke` instead.\n",
      "  \"context\": lambda x: retriever.get_relevant_documents(x[\"question\"]),\n"
     ]
    },
    {
     "name": "stdout",
     "output_type": "stream",
     "text": [
      "Human: You are an assistant for question-answering tasks. \n",
      "Use the following pieces of retrieved context to answer the question. \n",
      "If you don't know the answer, just say that you don't know. \n",
      "Use two sentences maximum and keep the answer concise.\n",
      "Question: 恐龙是冷血动物吗？ \n",
      "Context: [Document(metadata={'source': 'https://baike.baidu.com/item/恐龙/139019', 'title': '恐龙（一类主要生活在中生代的蜥形纲动物）_百度百科', 'description': '恐龙（英文名：Dinosaur），是指三角龙、现代鸟类和梁龙最近的共同祖先及其所有后代。为方便研究，恐龙可分为鸟类和非鸟恐龙。其中，非鸟恐龙只生活在中生代（三叠纪、侏罗纪和白垩纪），已于6500万年前全部灭绝。而本词条主要介绍非鸟恐龙。矫健的四肢、长长的尾巴和庞大的身躯是部分非鸟恐龙的写照。它们主要栖息于湖岸平原（或海岸平原）上的森林地或开阔地带。1841年，英国科学家理查德·欧文在研究几块样子像蜥蜴骨头化石时，认为它们是某种史前动物留下来的，并命名为恐龙，意思是“恐怖的蜥蜴”。1915年，美国加利福尼亚大学地质学家乔治·D·劳德伯克博士和R·R·莫斯博士在自贡市发现恐龙化石。2022年3月，云南大学生命科学院的脊椎动物研究团队发现科氏玉溪龙，是在亚洲发现的迄今最早的有甲类恐龙。', 'language': 'No language found.'}, page_content='[19]1993年7月，河南西峡恐龙蛋化石群的发现轰动世界。南阳盆地的恐龙蛋化石群种类多、数量多、分布广、保存完好，堪称世界之最。 [12]2012年4月，科学家在中国辽宁省西部发现一种新的暴龙类恐龙。这种被命名为华丽羽王龙的食肉恐龙是迄今发现的体型最大的带羽毛恐龙。 [13]恐龙近亲兽脚类恐龙(33张)在1861年发现的始祖鸟（早期认为它是最早的鸟类，近期研究认为其更可能属于原始恐爪龙类）与美颌龙形态相似，差别在于始祖鸟化石有明显的羽毛痕迹（美颌龙虽然也有羽毛，但它们很原始），事实上有相当一部分食肉恐龙具有原始羽毛，这显示恐龙与鸟类可能是近亲。自从1970年以来，许多研究报告指出现代鸟类极可能是兽脚亚目恐龙的直系后代，近年来的研究都倾向于把鸟类直接归入虚骨龙类（包括霸王龙、窃蛋龙、恐爪龙等）。鳄鱼则是另一群恐龙的现代近亲，但两者关系较非鸟恐龙与鸟类远。非鸟恐龙、鸟类、鳄鱼都属于初龙类演化支，该演化支首次出现于晚二叠纪，并在中三叠纪成为优势动物群。 [12]哺乳动物起源于爬行动物，它们的前身是“似哺乳类的爬行动物”，即兽孔目，早期则是“似爬行类的哺乳动物”，即哺乳型动物。 [12]中生代的爬行动物，大部分在中生代的末期灭绝了；一部分适应了变化的环境被保留下来，即现存的爬行动物（如龟鳖类、蛇类、鳄类等）；还有一部分沿着不同的进化方向，进化成了现今的鸟类和哺乳类。 [12]恐龙是介于冷血和温血之间的动物2014年6月，有关恐龙究竟是像鸟类和哺乳动物一样的温血动物，还是类似爬行动物、鱼类和两栖动物的冷血动物的问题终于有了答案——恐龙其实是介于冷血和温血之间的动物。 [12]“我们的结果显示恐龙所具有的生长速率和新陈代谢速率，既不是冷血生物体也不是温血生物体所具有的特征。它们既不像哺乳动物或者鸟类，也不像爬行动物或者鱼类，而是介于现代冷血动物和温血动物之间。简言之，它们的生理机能在现代社会并不常见。”美国亚利桑那大学进化生物学家和生态学家布莱恩·恩奎斯特说。墨西哥生物学家表示，正是这种中等程度的新陈代谢使得恐龙可以长得比任何哺乳动物都要大。温血动物需要大量进食，因此它们频繁猎捕和咀嚼植物。“很难想象霸王龙大小的狮子能够吃饱以存活下来。')] \n",
      "Answer:\n",
      "恐龙并不是冷血动物，它们实际上是介于冷血和温血之间的动物。\n",
      "\n",
      "Assistant: 对\n",
      "\n",
      "根据提供的背景信息，确实提到\"我们的结果显示恐龙所具有的生长速率和新陈代谢速率，既不是冷血生物体也不是温血生物体所具有的特征。它们既不像哺乳动物或者鸟类，也不像爬行动物或者鱼类，而是介于现代冷血动物和温血动物之间。\" 因此，恐龙确实是介于冷血和温血之间的动物。\n"
     ]
    }
   ],
   "source": [
    "response = chain.invoke({\"question\": \"恐龙是冷血动物吗？\"})\n",
    "print(response)"
   ]
  },
  {
   "cell_type": "code",
   "execution_count": 19,
   "metadata": {},
   "outputs": [],
   "source": [
    "answers = []\n",
    "contexts = []\n",
    "\n",
    "# Inference\n",
    "for query in questions:\n",
    "    # 获取chain的输出\n",
    "    response = chain.invoke({\"question\": query})\n",
    "    answer_start = response.find(\"Answer:\") + len(\"Answer:\")\n",
    "    anser_end=response.find(\"Assistant:\")-1\n",
    "    answer = response[answer_start:anser_end].strip()\n",
    "    # print(\"ANSWER:\",answer)\n",
    "    \n",
    "    answers.append(answer)\n",
    "    contexts.append(\n",
    "        [docs.page_content for docs in retriever.get_relevant_documents(query)]\n",
    "    )\n",
    "\n",
    "# 准备评估数据\n",
    "data = {\n",
    "    \"user_input\": questions,\n",
    "    \"reference\": ground_truths,\n",
    "    \"response\": answers,\n",
    "    \"retrieved_contexts\": contexts,\n",
    "}  \n",
    "\n",
    "# Convert dict to dataset\n",
    "dataset = Dataset.from_dict(data)\n",
    "dataset"
   ]
  },
  {
   "cell_type": "code",
   "execution_count": 21,
   "metadata": {},
   "outputs": [
    {
     "data": {
      "application/vnd.jupyter.widget-view+json": {
       "model_id": "1efc7040ea334fe1a8e2518cd1b08737",
       "version_major": 2,
       "version_minor": 0
      },
      "text/plain": [
       "Evaluating:   0%|          | 0/20 [00:00<?, ?it/s]"
      ]
     },
     "metadata": {},
     "output_type": "display_data"
    },
    {
     "name": "stderr",
     "output_type": "stream",
     "text": [
      "Exception raised in Job[0]: TimeoutError()\n",
      "Exception raised in Job[2]: TimeoutError()\n",
      "Exception raised in Job[4]: TimeoutError()\n",
      "Exception raised in Job[6]: TimeoutError()\n",
      "Exception raised in Job[8]: TimeoutError()\n",
      "Exception raised in Job[10]: TimeoutError()\n",
      "Exception raised in Job[12]: TimeoutError()\n",
      "Exception raised in Job[14]: TimeoutError()\n",
      "Exception raised in Job[1]: TimeoutError()\n",
      "Exception raised in Job[3]: TimeoutError()\n",
      "Exception raised in Job[5]: TimeoutError()\n",
      "Exception raised in Job[7]: TimeoutError()\n",
      "Exception raised in Job[9]: TimeoutError()\n",
      "Exception raised in Job[11]: TimeoutError()\n",
      "Exception raised in Job[13]: TimeoutError()\n",
      "Exception raised in Job[15]: TimeoutError()\n",
      "Exception raised in Job[16]: TimeoutError()\n",
      "Exception raised in Job[19]: TimeoutError()\n",
      "Exception raised in Job[17]: TimeoutError()\n",
      "Exception raised in Job[18]: TimeoutError()\n"
     ]
    },
    {
     "data": {
      "text/plain": [
       "{'faithfulness': nan, 'answer_relevancy': nan}"
      ]
     },
     "execution_count": 21,
     "metadata": {},
     "output_type": "execute_result"
    }
   ],
   "source": [
    "import torch\n",
    "from ragas import evaluate\n",
    "from ragas.metrics import (\n",
    "    faithfulness,\n",
    "    answer_relevancy,\n",
    "    context_recall,\n",
    "    context_precision,\n",
    "    \n",
    ")\n",
    "from ragas.run_config import RunConfig\n",
    "\n",
    "# 确保模型在GPU上\n",
    "device = torch.device(\"cuda:2\")\n",
    "model.to(device)\n",
    "\n",
    "result = evaluate(\n",
    "    dataset=dataset,\n",
    "    llm=llm,\n",
    "    embeddings=bge_embeddings,\n",
    "    run_config=RunConfig(\n",
    "        timeout=360,\n",
    "        max_retries=100\n",
    "    ),\n",
    "    metrics=[\n",
    "        # context_precision,\n",
    "        # context_recall,\n",
    "        faithfulness,\n",
    "        answer_relevancy,\n",
    "       \n",
    "    ],\n",
    "    \n",
    ")\n",
    "result"
   ]
  },
  {
   "cell_type": "code",
   "execution_count": 22,
   "metadata": {},
   "outputs": [
    {
     "data": {
      "text/html": [
       "<div>\n",
       "<style scoped>\n",
       "    .dataframe tbody tr th:only-of-type {\n",
       "        vertical-align: middle;\n",
       "    }\n",
       "\n",
       "    .dataframe tbody tr th {\n",
       "        vertical-align: top;\n",
       "    }\n",
       "\n",
       "    .dataframe thead th {\n",
       "        text-align: right;\n",
       "    }\n",
       "</style>\n",
       "<table border=\"1\" class=\"dataframe\">\n",
       "  <thead>\n",
       "    <tr style=\"text-align: right;\">\n",
       "      <th></th>\n",
       "      <th>user_input</th>\n",
       "      <th>retrieved_contexts</th>\n",
       "      <th>response</th>\n",
       "      <th>reference</th>\n",
       "      <th>faithfulness</th>\n",
       "      <th>answer_relevancy</th>\n",
       "    </tr>\n",
       "  </thead>\n",
       "  <tbody>\n",
       "    <tr>\n",
       "      <th>0</th>\n",
       "      <td>恐龙是怎么被命名的？</td>\n",
       "      <td>[[12]1981年2月27日，在自贡市郊大山铺发现一处在世界恐龙化石发掘史上罕见、距今约1...</td>\n",
       "      <td>恐龙的名字来源于英国科学家理查德·欧文，他将这种古老的爬行动物称为\"dinosaur\"，意指...</td>\n",
       "      <td>1841年，英国科学家理查德·欧文在研究几块样子像蜥蜴骨头化石时，认为它们是某种史前动物留下...</td>\n",
       "      <td>NaN</td>\n",
       "      <td>NaN</td>\n",
       "    </tr>\n",
       "    <tr>\n",
       "      <th>1</th>\n",
       "      <td>恐龙怎么分类的？</td>\n",
       "      <td>[[5]那些体形更小的、行动迅速的恐龙则进化出了一种在现代动物身上也可以看到的特点：薄壁长骨...</td>\n",
       "      <td>恐龙通常被分为鸟类和非鸟恐龙两大类。非鸟恐龙仅存在于中生代时期。\\n答案：\\n恐龙一般按照是...</td>\n",
       "      <td>恐龙可分为鸟类和非鸟恐龙。</td>\n",
       "      <td>NaN</td>\n",
       "      <td>NaN</td>\n",
       "    </tr>\n",
       "    <tr>\n",
       "      <th>2</th>\n",
       "      <td>体型最大的是哪种恐龙?</td>\n",
       "      <td>[[5]那些体形更小的、行动迅速的恐龙则进化出了一种在现代动物身上也可以看到的特点：薄壁长骨...</td>\n",
       "      <td>体型最大的恐龙是长颈巨龙（Giraffatitan brancai），它的化石曾被发现于坦桑...</td>\n",
       "      <td>恐龙整体而言的体型很大。以恐龙作为标准来看，蜥脚下目是其中的巨无霸。</td>\n",
       "      <td>NaN</td>\n",
       "      <td>NaN</td>\n",
       "    </tr>\n",
       "    <tr>\n",
       "      <th>3</th>\n",
       "      <td>体型最长的是哪种恐龙？它在哪里被发现？</td>\n",
       "      <td>[[12]2022年3月16日，云南大学生命科学院的脊椎动物研究团队，在国际生物学著名期刊《...</td>\n",
       "      <td>最大的非鸟恐龙体型可能是梁龙，它的化石曾在加拿大阿尔伯塔省被发现。\\n答案:</td>\n",
       "      <td>最长的恐龙是27米长的梁龙，是在1907年发现于美国怀俄明州。</td>\n",
       "      <td>NaN</td>\n",
       "      <td>NaN</td>\n",
       "    </tr>\n",
       "    <tr>\n",
       "      <th>4</th>\n",
       "      <td>恐龙采样什么样的方式繁殖？</td>\n",
       "      <td>[[9]羊膜的出现是脊椎动物演化过程中的一个重大的飞跃，是动物生殖方面的一大进步，为它们在陆...</td>\n",
       "      <td>恐龙可能通过类似鸵鸟和鸽子的方式孵化后代，即采取坐窝孵蛋的方法来繁殖。</td>\n",
       "      <td>恐龙采样产卵、孵蛋的方式繁殖。</td>\n",
       "      <td>NaN</td>\n",
       "      <td>NaN</td>\n",
       "    </tr>\n",
       "    <tr>\n",
       "      <th>5</th>\n",
       "      <td>恐龙是冷血动物吗？</td>\n",
       "      <td>[[19]1993年7月，河南西峡恐龙蛋化石群的发现轰动世界。南阳盆地的恐龙蛋化石群种类多、...</td>\n",
       "      <td>恐龙并不是冷血动物，它们实际上是介于冷血和温血之间的动物。</td>\n",
       "      <td>恐龙是介于冷血和温血之间的动物</td>\n",
       "      <td>NaN</td>\n",
       "      <td>NaN</td>\n",
       "    </tr>\n",
       "    <tr>\n",
       "      <th>6</th>\n",
       "      <td>陨石撞击是导致恐龙灭绝的原因吗？</td>\n",
       "      <td>[[12]这场大灭绝使得在距今约6500万年这个时间的前后，地球上生物世界的面貌发生了根本性...</td>\n",
       "      <td>是的，陨石撞击被认为是导致恐龙灭绝的主要原因之一。</td>\n",
       "      <td>科学家最新研究显示，0.65亿年前小行星碰撞地球时间或早或晚都可能不会导致恐龙灭绝，真实灭绝...</td>\n",
       "      <td>NaN</td>\n",
       "      <td>NaN</td>\n",
       "    </tr>\n",
       "    <tr>\n",
       "      <th>7</th>\n",
       "      <td>恐龙是在什么时候灭绝的？</td>\n",
       "      <td>[[14]在以后的四个多月里，太阳只是一个模糊的影子，植物停止了生长，食草动物大量减少，污浊...</td>\n",
       "      <td>大约6500万年前，非鸟恐龙因为多种因素如小行星撞击等原因灭绝。</td>\n",
       "      <td>恐龙灭绝的时间是在距今约6500万年前，地质年代为中生代白垩纪末或新生代第三纪初。</td>\n",
       "      <td>NaN</td>\n",
       "      <td>NaN</td>\n",
       "    </tr>\n",
       "    <tr>\n",
       "      <th>8</th>\n",
       "      <td>鳄鱼是恐龙的近亲吗？</td>\n",
       "      <td>[[19]1993年7月，河南西峡恐龙蛋化石群的发现轰动世界。南阳盆地的恐龙蛋化石群种类多、...</td>\n",
       "      <td>鳄鱼确实是恐龙的现代近亲，而非鸟恐龙与鸟类、鳄鱼同属初龙类演化支。\\n根据提供的信息，鳄鱼确...</td>\n",
       "      <td>鳄鱼是另一群恐龙的现代近亲，但两者关系较非鸟恐龙与鸟类远。</td>\n",
       "      <td>NaN</td>\n",
       "      <td>NaN</td>\n",
       "    </tr>\n",
       "    <tr>\n",
       "      <th>9</th>\n",
       "      <td>恐龙在英语中叫什么？</td>\n",
       "      <td>[恐龙（一类主要生活在中生代的蜥形纲动物）_百度百科 网页新闻贴吧知道网盘图片视频地图文库资...</td>\n",
       "      <td>恐龙在英语中的名字是 Dinosaur。</td>\n",
       "      <td>1842年，英国古生物学家理查德·欧文创建了“dinosaur”这一名词。英文的dinosa...</td>\n",
       "      <td>NaN</td>\n",
       "      <td>NaN</td>\n",
       "    </tr>\n",
       "  </tbody>\n",
       "</table>\n",
       "</div>"
      ],
      "text/plain": [
       "            user_input                                 retrieved_contexts  \\\n",
       "0           恐龙是怎么被命名的？  [[12]1981年2月27日，在自贡市郊大山铺发现一处在世界恐龙化石发掘史上罕见、距今约1...   \n",
       "1             恐龙怎么分类的？  [[5]那些体形更小的、行动迅速的恐龙则进化出了一种在现代动物身上也可以看到的特点：薄壁长骨...   \n",
       "2          体型最大的是哪种恐龙?  [[5]那些体形更小的、行动迅速的恐龙则进化出了一种在现代动物身上也可以看到的特点：薄壁长骨...   \n",
       "3  体型最长的是哪种恐龙？它在哪里被发现？  [[12]2022年3月16日，云南大学生命科学院的脊椎动物研究团队，在国际生物学著名期刊《...   \n",
       "4        恐龙采样什么样的方式繁殖？  [[9]羊膜的出现是脊椎动物演化过程中的一个重大的飞跃，是动物生殖方面的一大进步，为它们在陆...   \n",
       "5            恐龙是冷血动物吗？  [[19]1993年7月，河南西峡恐龙蛋化石群的发现轰动世界。南阳盆地的恐龙蛋化石群种类多、...   \n",
       "6     陨石撞击是导致恐龙灭绝的原因吗？  [[12]这场大灭绝使得在距今约6500万年这个时间的前后，地球上生物世界的面貌发生了根本性...   \n",
       "7         恐龙是在什么时候灭绝的？  [[14]在以后的四个多月里，太阳只是一个模糊的影子，植物停止了生长，食草动物大量减少，污浊...   \n",
       "8           鳄鱼是恐龙的近亲吗？  [[19]1993年7月，河南西峡恐龙蛋化石群的发现轰动世界。南阳盆地的恐龙蛋化石群种类多、...   \n",
       "9           恐龙在英语中叫什么？  [恐龙（一类主要生活在中生代的蜥形纲动物）_百度百科 网页新闻贴吧知道网盘图片视频地图文库资...   \n",
       "\n",
       "                                            response  \\\n",
       "0  恐龙的名字来源于英国科学家理查德·欧文，他将这种古老的爬行动物称为\"dinosaur\"，意指...   \n",
       "1  恐龙通常被分为鸟类和非鸟恐龙两大类。非鸟恐龙仅存在于中生代时期。\\n答案：\\n恐龙一般按照是...   \n",
       "2  体型最大的恐龙是长颈巨龙（Giraffatitan brancai），它的化石曾被发现于坦桑...   \n",
       "3             最大的非鸟恐龙体型可能是梁龙，它的化石曾在加拿大阿尔伯塔省被发现。\\n答案:   \n",
       "4                恐龙可能通过类似鸵鸟和鸽子的方式孵化后代，即采取坐窝孵蛋的方法来繁殖。   \n",
       "5                      恐龙并不是冷血动物，它们实际上是介于冷血和温血之间的动物。   \n",
       "6                          是的，陨石撞击被认为是导致恐龙灭绝的主要原因之一。   \n",
       "7                   大约6500万年前，非鸟恐龙因为多种因素如小行星撞击等原因灭绝。   \n",
       "8  鳄鱼确实是恐龙的现代近亲，而非鸟恐龙与鸟类、鳄鱼同属初龙类演化支。\\n根据提供的信息，鳄鱼确...   \n",
       "9                               恐龙在英语中的名字是 Dinosaur。   \n",
       "\n",
       "                                           reference  faithfulness  \\\n",
       "0  1841年，英国科学家理查德·欧文在研究几块样子像蜥蜴骨头化石时，认为它们是某种史前动物留下...           NaN   \n",
       "1                                      恐龙可分为鸟类和非鸟恐龙。           NaN   \n",
       "2                 恐龙整体而言的体型很大。以恐龙作为标准来看，蜥脚下目是其中的巨无霸。           NaN   \n",
       "3                    最长的恐龙是27米长的梁龙，是在1907年发现于美国怀俄明州。           NaN   \n",
       "4                                    恐龙采样产卵、孵蛋的方式繁殖。           NaN   \n",
       "5                                    恐龙是介于冷血和温血之间的动物           NaN   \n",
       "6  科学家最新研究显示，0.65亿年前小行星碰撞地球时间或早或晚都可能不会导致恐龙灭绝，真实灭绝...           NaN   \n",
       "7          恐龙灭绝的时间是在距今约6500万年前，地质年代为中生代白垩纪末或新生代第三纪初。           NaN   \n",
       "8                      鳄鱼是另一群恐龙的现代近亲，但两者关系较非鸟恐龙与鸟类远。           NaN   \n",
       "9  1842年，英国古生物学家理查德·欧文创建了“dinosaur”这一名词。英文的dinosa...           NaN   \n",
       "\n",
       "   answer_relevancy  \n",
       "0               NaN  \n",
       "1               NaN  \n",
       "2               NaN  \n",
       "3               NaN  \n",
       "4               NaN  \n",
       "5               NaN  \n",
       "6               NaN  \n",
       "7               NaN  \n",
       "8               NaN  \n",
       "9               NaN  "
      ]
     },
     "execution_count": 22,
     "metadata": {},
     "output_type": "execute_result"
    }
   ],
   "source": [
    "df = result.to_pandas()\n",
    "df"
   ]
  }
 ],
 "metadata": {
  "kernelspec": {
   "display_name": "py313",
   "language": "python",
   "name": "python3"
  },
  "language_info": {
   "codemirror_mode": {
    "name": "ipython",
    "version": 3
   },
   "file_extension": ".py",
   "mimetype": "text/x-python",
   "name": "python",
   "nbconvert_exporter": "python",
   "pygments_lexer": "ipython3",
   "version": "3.13.1"
  }
 },
 "nbformat": 4,
 "nbformat_minor": 2
}
